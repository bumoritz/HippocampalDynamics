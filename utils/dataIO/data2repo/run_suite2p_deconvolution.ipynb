{
 "cells": [
  {
   "cell_type": "code",
   "execution_count": 10,
   "metadata": {},
   "outputs": [],
   "source": [
    "import os\n",
    "import numpy as np\n",
    "from suite2p.extraction import dcnv\n",
    "\n",
    "def run_s2p_deconvolution(animal,date):\n",
    "\n",
    "       base_path = 'E:\\SniffinHippo\\RepoX'\n",
    "       path_in = os.path.join(base_path,animal,animal+'_'+date,animal+'_'+date+'_dFFn_all.npy')\n",
    "       path_out = os.path.join(base_path,animal,animal+'_'+date,animal+'_'+date+'_spksn_all.npy')\n",
    "\n",
    "       tau = 1.25 # timescale of indicator\n",
    "       fs = 30.0 # sampling rate in Hz\n",
    "\n",
    "       baseline = 'maximin' # take the running max of the running min after smoothing with gaussian\n",
    "       sig_baseline = 10.0 # in bins, standard deviation of gaussian with which to smooth\n",
    "       win_baseline = 60.0 # in seconds, window in which to compute max/min filters\n",
    "\n",
    "       ops = {'tau': tau, 'fs': fs,\n",
    "              'baseline': baseline, 'sig_baseline': sig_baseline, 'win_baseline': win_baseline}\n",
    "\n",
    "       # load data\n",
    "       Fc = np.load(path_in)\n",
    "\n",
    "       # baseline operation\n",
    "       Fc = dcnv.preprocess(F=Fc, ops=ops)\n",
    "\n",
    "       # get spikes\n",
    "       spks_all = dcnv.oasis(F=Fc, ops=ops)\n",
    "       spks = spks_all\n",
    "\n",
    "       # save data\n",
    "       np.save(path_out,spks_all)\n",
    "       print('Saved results to '+path_out)\n"
   ]
  },
  {
   "cell_type": "code",
   "execution_count": 11,
   "metadata": {},
   "outputs": [
    {
     "name": "stdout",
     "output_type": "stream",
     "text": [
      "Saved results to E:\\SniffinHippo\\RepoX\\Stanage\\Stanage_20210924\\Stanage_20210924_spksn_all.npy\n",
      "Saved results to E:\\SniffinHippo\\RepoX\\Stanage\\Stanage_20210925\\Stanage_20210925_spksn_all.npy\n",
      "Saved results to E:\\SniffinHippo\\RepoX\\Stanage\\Stanage_20210926\\Stanage_20210926_spksn_all.npy\n",
      "Saved results to E:\\SniffinHippo\\RepoX\\Stanage\\Stanage_20210927\\Stanage_20210927_spksn_all.npy\n",
      "Saved results to E:\\SniffinHippo\\RepoX\\Stanage\\Stanage_20210928\\Stanage_20210928_spksn_all.npy\n",
      "Saved results to E:\\SniffinHippo\\RepoX\\BullyBoy\\BullyBoy_20220214\\BullyBoy_20220214_spksn_all.npy\n",
      "Saved results to E:\\SniffinHippo\\RepoX\\BullyBoy\\BullyBoy_20220215\\BullyBoy_20220215_spksn_all.npy\n",
      "Saved results to E:\\SniffinHippo\\RepoX\\BullyBoy\\BullyBoy_20220216\\BullyBoy_20220216_spksn_all.npy\n",
      "Saved results to E:\\SniffinHippo\\RepoX\\BullyBoy\\BullyBoy_20220217\\BullyBoy_20220217_spksn_all.npy\n",
      "Saved results to E:\\SniffinHippo\\RepoX\\BullyBoy\\BullyBoy_20220218\\BullyBoy_20220218_spksn_all.npy\n",
      "Saved results to E:\\SniffinHippo\\RepoX\\Hope\\Hope_20220129\\Hope_20220129_spksn_all.npy\n",
      "Saved results to E:\\SniffinHippo\\RepoX\\Hope\\Hope_20220130\\Hope_20220130_spksn_all.npy\n"
     ]
    }
   ],
   "source": [
    "# Joblist\n",
    "# import time\n",
    "# time.sleep(60*60*4)\n",
    "\n",
    "# run_s2p_deconvolution('Stanage','20210924')\n",
    "# run_s2p_deconvolution('Stanage','20210925')\n",
    "# run_s2p_deconvolution('Stanage','20210926')\n",
    "# run_s2p_deconvolution('Stanage','20210927')\n",
    "# run_s2p_deconvolution('Stanage','20210928')\n",
    "\n",
    "# # run_s2p_deconvolution('Carlo','20210313')\n",
    "\n",
    "# # run_s2p_deconvolution('Meghan','20211124')\n",
    "\n",
    "# run_s2p_deconvolution('BullyBoy','20220214')\n",
    "# run_s2p_deconvolution('BullyBoy','20220215')\n",
    "# run_s2p_deconvolution('BullyBoy','20220216')\n",
    "# run_s2p_deconvolution('BullyBoy','20220217')\n",
    "# run_s2p_deconvolution('BullyBoy','20220218')\n",
    "\n",
    "# run_s2p_deconvolution('Hope','20220129')\n",
    "run_s2p_deconvolution('Hope','20220130')\n",
    "\n",
    "\n",
    "# run_s2p_deconvolution('Kura','20220524')\n",
    "# run_s2p_deconvolution('Kura','20220525')\n",
    "# run_s2p_deconvolution('Kura','20220526')\n",
    "# run_s2p_deconvolution('Kura','20220527')\n",
    "# run_s2p_deconvolution('Kura','20220528')\n",
    "\n"
   ]
  }
 ],
 "metadata": {
  "kernelspec": {
   "display_name": "Python 3.6.9 ('suite2p')",
   "language": "python",
   "name": "python3"
  },
  "language_info": {
   "codemirror_mode": {
    "name": "ipython",
    "version": 3
   },
   "file_extension": ".py",
   "mimetype": "text/x-python",
   "name": "python",
   "nbconvert_exporter": "python",
   "pygments_lexer": "ipython3",
   "version": "3.6.9"
  },
  "orig_nbformat": 4,
  "vscode": {
   "interpreter": {
    "hash": "b8e97748b19ddb7a76c442925eafd2e4ae0a2da48372dab40eb831ae71b06d77"
   }
  }
 },
 "nbformat": 4,
 "nbformat_minor": 2
}
